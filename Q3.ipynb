{
 "cells": [
  {
   "cell_type": "code",
   "execution_count": 7,
   "id": "fbef61a9",
   "metadata": {},
   "outputs": [
    {
     "name": "stdout",
     "output_type": "stream",
     "text": [
      "the Number must be an integer and positive!!\n"
     ]
    },
    {
     "data": {
      "text/plain": [
       "nan"
      ]
     },
     "execution_count": 7,
     "metadata": {},
     "output_type": "execute_result"
    }
   ],
   "source": [
    "def MyFunctQ3(n):\n",
    "    Dic={}\n",
    "    if n>0 and (type(n)==int):\n",
    "        for i in range(1,n+1):\n",
    "            Dic[i]=i*i     \n",
    "    else:\n",
    "        print(\"the Number must be an integer and positive!!\")\n",
    "        Dic=float(\"nan\")\n",
    "    return Dic\n",
    "MyFunctQ3(-8)"
   ]
  },
  {
   "cell_type": "code",
   "execution_count": null,
   "id": "8e2f7b02",
   "metadata": {},
   "outputs": [],
   "source": []
  }
 ],
 "metadata": {
  "kernelspec": {
   "display_name": "Python 3 (ipykernel)",
   "language": "python",
   "name": "python3"
  },
  "language_info": {
   "codemirror_mode": {
    "name": "ipython",
    "version": 3
   },
   "file_extension": ".py",
   "mimetype": "text/x-python",
   "name": "python",
   "nbconvert_exporter": "python",
   "pygments_lexer": "ipython3",
   "version": "3.9.12"
  }
 },
 "nbformat": 4,
 "nbformat_minor": 5
}
