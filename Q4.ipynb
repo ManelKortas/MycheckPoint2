{
 "cells": [
  {
   "cell_type": "code",
   "execution_count": 24,
   "id": "3dfb471d",
   "metadata": {},
   "outputs": [
    {
     "name": "stdout",
     "output_type": "stream",
     "text": [
      "anelKortas\n",
      "ManlKortas\n",
      "ManelKorta\n",
      "string must be non empty and the entered value must be between 11 and 10.\n"
     ]
    }
   ],
   "source": [
    "def RemovChar(string,index_R):\n",
    "    if len(string)!=0 and index_R in range(len(string)):\n",
    "        first_part = string[:index_R] \n",
    "        last_part = string[index_R+1:]\n",
    "        FinalStr= first_part + last_part\n",
    "    else:  \n",
    "        FinalStr= (\"string must be non empty and the entered value must be between %s and %s.\" % (index_R,len(string)-1))\n",
    "    return FinalStr\n",
    "print(RemovChar('ManelKortas', 0))\n",
    "print(RemovChar('ManelKortas', 3))\n",
    "print(RemovChar('ManelKortas', 10))\n",
    "print(RemovChar('ManelKortas', 11))"
   ]
  },
  {
   "cell_type": "code",
   "execution_count": null,
   "id": "9de18ac3",
   "metadata": {},
   "outputs": [],
   "source": []
  },
  {
   "cell_type": "code",
   "execution_count": null,
   "id": "28a49644",
   "metadata": {},
   "outputs": [],
   "source": []
  }
 ],
 "metadata": {
  "kernelspec": {
   "display_name": "Python 3 (ipykernel)",
   "language": "python",
   "name": "python3"
  },
  "language_info": {
   "codemirror_mode": {
    "name": "ipython",
    "version": 3
   },
   "file_extension": ".py",
   "mimetype": "text/x-python",
   "name": "python",
   "nbconvert_exporter": "python",
   "pygments_lexer": "ipython3",
   "version": "3.9.12"
  }
 },
 "nbformat": 4,
 "nbformat_minor": 5
}
