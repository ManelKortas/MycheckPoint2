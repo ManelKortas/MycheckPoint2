{
 "cells": [
  {
   "cell_type": "code",
   "execution_count": 1,
   "id": "729e271c",
   "metadata": {},
   "outputs": [
    {
     "name": "stdout",
     "output_type": "stream",
     "text": [
      "18,22,24\n"
     ]
    }
   ],
   "source": [
    "import numpy as np\n",
    "import math\n",
    "def SquareRootQ7(ArrayD):\n",
    "    C=50\n",
    "    H=30\n",
    "    Rslt=np.sqrt((2*C*ArrayD)/H)\n",
    "    return np.round(Rslt)\n",
    "\n",
    "array1 = np.array([100, 150, 180])\n",
    "array2= SquareRootQ7(array1)\n",
    "list1 = []  \n",
    "for i in array2:\n",
    "    list1.append(str(int(round(i))))\n",
    "print (\",\".join(list1))\n",
    "\n"
   ]
  },
  {
   "cell_type": "code",
   "execution_count": null,
   "id": "9396c937",
   "metadata": {},
   "outputs": [],
   "source": []
  }
 ],
 "metadata": {
  "kernelspec": {
   "display_name": "Python 3 (ipykernel)",
   "language": "python",
   "name": "python3"
  },
  "language_info": {
   "codemirror_mode": {
    "name": "ipython",
    "version": 3
   },
   "file_extension": ".py",
   "mimetype": "text/x-python",
   "name": "python",
   "nbconvert_exporter": "python",
   "pygments_lexer": "ipython3",
   "version": "3.9.12"
  }
 },
 "nbformat": 4,
 "nbformat_minor": 5
}
