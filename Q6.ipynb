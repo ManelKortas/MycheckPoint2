{
 "cells": [
  {
   "cell_type": "code",
   "execution_count": 11,
   "id": "761d2fd0",
   "metadata": {},
   "outputs": [
    {
     "name": "stdout",
     "output_type": "stream",
     "text": [
      "Original array1:[0 1 2]\n",
      "Original array2:[2 1 0]\n",
      "\n",
      "Covariance matrix of the said arrays:[ 1. -1.] [-1.  1.] "
     ]
    }
   ],
   "source": [
    "import numpy as np\n",
    "def CovMatrix(array1,array2):\n",
    "     return np.cov(array1, array2)\n",
    "     \n",
    "array1 = np.array([0, 1, 2])\n",
    "array2 = np.array([2, 1, 0])\n",
    "print(\"Original array1:\", end = '')\n",
    "print(array1)\n",
    "print(\"Original array2:\", end = '')\n",
    "print(array2)\n",
    "  \n",
    "print(\"\\nCovariance matrix of the said arrays:\", end = ''),\n",
    "for x in CovMatrix(array1, array2):\n",
    "    print(x, end=' ')\n",
    "\n"
   ]
  },
  {
   "cell_type": "code",
   "execution_count": null,
   "id": "b010a11c",
   "metadata": {},
   "outputs": [],
   "source": []
  }
 ],
 "metadata": {
  "kernelspec": {
   "display_name": "Python 3 (ipykernel)",
   "language": "python",
   "name": "python3"
  },
  "language_info": {
   "codemirror_mode": {
    "name": "ipython",
    "version": 3
   },
   "file_extension": ".py",
   "mimetype": "text/x-python",
   "name": "python",
   "nbconvert_exporter": "python",
   "pygments_lexer": "ipython3",
   "version": "3.9.12"
  }
 },
 "nbformat": 4,
 "nbformat_minor": 5
}
