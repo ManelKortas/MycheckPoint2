{
 "cells": [
  {
   "cell_type": "code",
   "execution_count": 24,
   "id": "f8490f03",
   "metadata": {},
   "outputs": [
    {
     "name": "stdout",
     "output_type": "stream",
     "text": [
      "the Number must be an integer and positive!!\n"
     ]
    },
    {
     "data": {
      "text/plain": [
       "nan"
      ]
     },
     "execution_count": 24,
     "metadata": {},
     "output_type": "execute_result"
    }
   ],
   "source": [
    "def MyFactorial(n):\n",
    "    if n==0:\n",
    "        Factn=1\n",
    "    elif n>0 and (type(n)==int):\n",
    "        Factn=1\n",
    "        for i in range(1,n+1):\n",
    "            Factn=Factn*i\n",
    "    else:\n",
    "        print(\"the Number must be an integer and positive!!\")\n",
    "        Factn=float(\"nan\")\n",
    "    return Factn\n",
    "MyFactorial(-10)"
   ]
  },
  {
   "cell_type": "code",
   "execution_count": null,
   "id": "5ebc7b67",
   "metadata": {},
   "outputs": [],
   "source": []
  },
  {
   "cell_type": "code",
   "execution_count": null,
   "id": "fc6511a2",
   "metadata": {},
   "outputs": [],
   "source": []
  }
 ],
 "metadata": {
  "kernelspec": {
   "display_name": "Python 3 (ipykernel)",
   "language": "python",
   "name": "python3"
  },
  "language_info": {
   "codemirror_mode": {
    "name": "ipython",
    "version": 3
   },
   "file_extension": ".py",
   "mimetype": "text/x-python",
   "name": "python",
   "nbconvert_exporter": "python",
   "pygments_lexer": "ipython3",
   "version": "3.9.12"
  }
 },
 "nbformat": 4,
 "nbformat_minor": 5
}
