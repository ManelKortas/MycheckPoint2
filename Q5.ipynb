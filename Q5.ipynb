{
 "cells": [
  {
   "cell_type": "code",
   "execution_count": 11,
   "id": "09d9da8e",
   "metadata": {},
   "outputs": [
    {
     "name": "stdout",
     "output_type": "stream",
     "text": [
      "Original array elements:[0 1] [2 3] [4 5] \n",
      "Array to list:[[0, 1], [2, 3], [4, 5]]\n"
     ]
    }
   ],
   "source": [
    "import numpy as np\n",
    "my_array=np.array([[0,1],[2,3],[4,5]])\n",
    "print(\"Original array elements:\", end = '') \n",
    "for x in my_array:\n",
    "    print(x, end=' ')\n",
    "print (\"\")\n",
    "print(\"Array to list:\", end = '')\n",
    "print(my_array.tolist())"
   ]
  },
  {
   "cell_type": "code",
   "execution_count": null,
   "id": "a9fefef1",
   "metadata": {},
   "outputs": [],
   "source": []
  }
 ],
 "metadata": {
  "kernelspec": {
   "display_name": "Python 3 (ipykernel)",
   "language": "python",
   "name": "python3"
  },
  "language_info": {
   "codemirror_mode": {
    "name": "ipython",
    "version": 3
   },
   "file_extension": ".py",
   "mimetype": "text/x-python",
   "name": "python",
   "nbconvert_exporter": "python",
   "pygments_lexer": "ipython3",
   "version": "3.9.12"
  }
 },
 "nbformat": 4,
 "nbformat_minor": 5
}
